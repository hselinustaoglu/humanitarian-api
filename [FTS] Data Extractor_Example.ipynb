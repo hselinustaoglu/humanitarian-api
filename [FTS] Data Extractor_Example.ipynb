{
 "cells": [
  {
   "cell_type": "markdown",
   "metadata": {},
   "source": [
    "# Before running\n",
    "## -This script has been created for extracting financial figures of Food Security Cluster within the appeal data recorded in FTS. \n",
    "## -No appeal data is not included. \n",
    "## -No credential is required. \n",
    "## -This script has been created in a Mac environment, there can be differences for other OSs.  "
   ]
  },
  {
   "cell_type": "markdown",
   "metadata": {},
   "source": [
    "### Importing libraries"
   ]
  },
  {
   "cell_type": "code",
   "execution_count": null,
   "metadata": {},
   "outputs": [],
   "source": [
    "from lxml import html\n",
    "import requests\n",
    "import pandas as pd\n",
    "from urllib.request import urlopen\n",
    "from bs4 import BeautifulSoup as BS\n",
    "import os\n",
    "from datetime import date\n",
    "import json\n",
    "import requests\n",
    "import numpy as np"
   ]
  },
  {
   "cell_type": "markdown",
   "metadata": {},
   "source": [
    "### Pre-defined information"
   ]
  },
  {
   "cell_type": "code",
   "execution_count": null,
   "metadata": {},
   "outputs": [],
   "source": [
    "#Please indicate the ids of countries with more than 1 appeal for Food Security Cluster\n",
    "morethanone_id = [1128]\n",
    "\n",
    "#Please indicate the year of concern\n",
    "year_list = [2023]"
   ]
  },
  {
   "cell_type": "markdown",
   "metadata": {},
   "source": [
    "### Getting data from FTS webside through API and html "
   ]
  },
  {
   "cell_type": "code",
   "execution_count": null,
   "metadata": {},
   "outputs": [],
   "source": [
    "#get all sectors data to see total fund and requirements\n",
    "df_all_sectors = pd.read_html('https://fts.unocha.org/appeals/overview/{}/plans'.format(year_list[0]))[1]"
   ]
  },
  {
   "cell_type": "code",
   "execution_count": null,
   "metadata": {},
   "outputs": [],
   "source": [
    "#get the ids of appeals using api\n",
    "df_analysis = pd.DataFrame()\n",
    "for year in year_list:\n",
    "    response = requests.get(\"https://api.hpc.tools/v1/public/plan/year/{}\".format(year))\n",
    "    dic_list = response.json()\n",
    "    dic_list = dic_list['data']\n",
    "    for i in range(0, len(dic_list)):\n",
    "        df = pd.DataFrame([dic_list[i]['planVersion']])\n",
    "        df_analysis = pd.concat([df_analysis, df])\n",
    "\n",
    "#recent_analysis = df_analysis.sort_values(by='modified').drop_duplicates('country', keep='first')\n",
    "all_ids = list(df_analysis['planId'])"
   ]
  },
  {
   "cell_type": "code",
   "execution_count": null,
   "metadata": {},
   "outputs": [],
   "source": [
    "df_analysis.head()"
   ]
  },
  {
   "cell_type": "markdown",
   "metadata": {},
   "source": [
    "import requests\n",
    "response = requests.get(\"https://api.hpc.tools/v1/public/plan/year/2022\")\n",
    "\n",
    "dic_list = response.json()\n",
    "dic_list = dic_list['data']\n",
    "for i in range(0, len(dic_list)):\n",
    "    df = pd.DataFrame([dic_list[i]['planVersion']])\n",
    "    df_analysis = pd.concat([df_analysis, df])\n",
    "all_ids = list(df_analysis['planId'])\n",
    "return all_ids"
   ]
  },
  {
   "cell_type": "code",
   "execution_count": null,
   "metadata": {},
   "outputs": [],
   "source": [
    "#functions for components\n",
    "def get_requirement(row):\n",
    "    for elem in row:\n",
    "        if elem == '\\n':\n",
    "            row.remove(elem)            \n",
    "    for i in range(0, len(row)):\n",
    "        if row[i].get('headers')[0] == 'view-total-funding-table-column':\n",
    "            fund_index = i\n",
    "        elif row[i].get('headers')[0] == 'view-requirements-current-table-column':\n",
    "            requirement_index = i\n",
    "    requirement = row[requirement_index].text.strip()\n",
    "    return requirement\n",
    "\n",
    "def get_fund(row):\n",
    "    for elem in row:\n",
    "        if elem == '\\n':\n",
    "            row.remove(elem)            \n",
    "    for i in range(0, len(row)):\n",
    "        if row[i].get('headers')[0] == 'view-total-funding-table-column':\n",
    "            fund_index = i\n",
    "        elif row[i].get('headers')[0] == 'view-requirements-current-table-column':\n",
    "            requirement_index = i\n",
    "    fund = row[fund_index].text.strip()\n",
    "    return fund\n",
    "\n",
    "def get_sector(row):\n",
    "    for elem in row:\n",
    "        if elem == '\\n':\n",
    "            row.remove(elem)            \n",
    "    sector = row[0].text.strip()\n",
    "    return sector"
   ]
  },
  {
   "cell_type": "markdown",
   "metadata": {
    "scrolled": true
   },
   "source": [
    "#get the data from FTS webside\n",
    "df = pd.DataFrame(columns = ['Appeal', 'Sector', 'Fund', 'Appeal_Code' ])\n",
    "\n",
    "for i in all_ids:\n",
    "    try:\n",
    "        html = urlopen('https://fts.unocha.org/appeals/{}/clusters'.format(i))\n",
    "        soup = BS(html)\n",
    "        appeal = soup.title.text.strip().split('|')[0]\n",
    "        appeal_code = i\n",
    "        tables = soup.find_all('table')[1]\n",
    "        if appeal_code in morethanone_id:\n",
    "            row1 = soup.find(lambda tag: (tag.name==\"td\") and ('Agriculture' in tag.text)).parent.contents\n",
    "            row2 = soup.find(lambda tag: (tag.name==\"td\") and ('Food' in tag.text)).parent.contents\n",
    "            requirement1 = get_requirement(row1)\n",
    "            requirement2 = get_requirement(row2)\n",
    "            fund1 = get_fund(row1)\n",
    "            fund2 = get_fund(row2)\n",
    "            sector1 = get_sector(row1)\n",
    "            sector2 = get_sector(row2)\n",
    "            df = df.append({'Appeal': appeal,\n",
    "                   'Sector': sector1,\n",
    "                    'Current Requirement' : requirement1,\n",
    "                   'Fund': fund1, \n",
    "                       'Appeal_Code': appeal_code}, ignore_index=True)\n",
    "            df = df.append({'Appeal': appeal,\n",
    "                   'Sector': sector2,\n",
    "                    'Current Requirement' : requirement2,\n",
    "                   'Fund': fund2, \n",
    "                       'Appeal_Code': appeal_code}, ignore_index=True)\n",
    "        else:                     \n",
    "            row = soup.find(lambda tag: (tag.name==\"td\") and (('Security' in tag.text) or ('Seguridad' in tag.text) or ('Sécurité' in tag.text) )).parent.contents\n",
    "            requirement = get_requirement(row)\n",
    "            fund = get_fund(row)\n",
    "            sector = get_sector(row)\n",
    "            df = df.append({'Appeal': appeal,\n",
    "                   'Sector': sector,\n",
    "                    'Current Requirement' : requirement,\n",
    "                   'Fund': fund, \n",
    "                       'Appeal_Code': appeal_code}, ignore_index=True)        \n",
    "    except:\n",
    "        pass"
   ]
  },
  {
   "cell_type": "code",
   "execution_count": null,
   "metadata": {
    "scrolled": true
   },
   "outputs": [],
   "source": [
    "#get the data from FTS webside\n",
    "df = pd.DataFrame(columns = ['Appeal', 'Sector', 'Fund', 'Appeal_Code' ])\n",
    "\n",
    "for i in all_ids:\n",
    "    try:\n",
    "        html = urlopen('https://fts.unocha.org/appeals/{}/clusters'.format(i))\n",
    "        soup = BS(html)\n",
    "        appeal = soup.title.text.strip().split('|')[0]\n",
    "        appeal_code = i\n",
    "        tables = soup.find_all('table')[1]\n",
    "        if appeal_code in morethanone_id:\n",
    "            row1 = soup.find(lambda tag: (tag.name==\"td\") and ('Agriculture' in tag.text)).parent.contents\n",
    "            row2 = soup.find(lambda tag: (tag.name==\"td\") and ('Food' in tag.text)).parent.contents\n",
    "            requirement1 = get_requirement(row1)\n",
    "            requirement2 = get_requirement(row2)\n",
    "            fund1 = get_fund(row1)\n",
    "            fund2 = get_fund(row2)\n",
    "            sector1 = get_sector(row1)\n",
    "            sector2 = get_sector(row2)\n",
    "            df1 = pd.DataFrame({'Appeal': [appeal],\n",
    "                   'Sector': [sector1],\n",
    "                    'Current Requirement' : [requirement1],\n",
    "                   'Fund': [fund1], \n",
    "                       'Appeal_Code': [appeal_code]})\n",
    "            df2 = pd.DataFrame({'Appeal': [appeal],\n",
    "                   'Sector': [sector2],\n",
    "                    'Current Requirement' : [requirement2],\n",
    "                   'Fund': [fund2], \n",
    "                       'Appeal_Code': [appeal_code]})\n",
    "            df3 = pd.concat([df1,df2])\n",
    "            \n",
    "        else:                     \n",
    "            row = soup.find(lambda tag: (tag.name==\"td\") and (('Security' in tag.text) or ('Seguridad' in tag.text) or ('Sécurité' in tag.text) )).parent.contents\n",
    "            requirement = get_requirement(row)\n",
    "            fund = get_fund(row)\n",
    "            sector = get_sector(row)\n",
    "            df_new = pd.DataFrame({'Appeal': [appeal],\n",
    "                   'Sector': [sector],\n",
    "                    'Current Requirement' : [requirement],\n",
    "                   'Fund': [fund], \n",
    "                       'Appeal_Code': [appeal_code]})\n",
    "            df = pd.concat([df,df_new])                    \n",
    "    except:\n",
    "        pass\n",
    "\n",
    "df = pd.concat([df, df3])\n",
    "df.reset_index(drop=True, inplace=True)"
   ]
  },
  {
   "cell_type": "code",
   "execution_count": null,
   "metadata": {},
   "outputs": [],
   "source": [
    "#Arrange appeal names\n",
    "hrp_list =['Humanitarian Response Plan', 'Plan de Respuesta Humanitario', 'Plan de Réponse Humanitaire']\n",
    "fa_list = ['Flash Appeal']\n",
    "rrp_list = ['Regional Refugee', 'Joint Response', 'Refugee and Migrant','Refugee Response' ]\n",
    "other_list = ['Humanitarian Needs and Priorities', 'Floods', 'Emergency']\n",
    "\n",
    "# create a list of our conditions\n",
    "conditions = [\n",
    "    (df['Appeal'].apply(lambda x: any(a in x for a in hrp_list))),\n",
    "    (df['Appeal'].apply(lambda x: any(a in x for a in fa_list))),\n",
    "    (df['Appeal'].apply(lambda x: any(a in x for a in rrp_list))),\n",
    "    (df['Appeal'].apply(lambda x: any(a in x for a in other_list)))]\n",
    "\n",
    "# create a list of the values we want to assign for each condition\n",
    "values = ['HRP', 'Flash Appeal', 'RRP', 'Other']\n",
    "\n",
    "# create a new column and use np.select to assign values to it using our lists as arguments\n",
    "df['Plan Type'] = np.select(conditions, values)\n",
    "df['Plan Type'] = np.where(df['Plan Type']=='0', 'Other', df['Plan Type'])"
   ]
  },
  {
   "cell_type": "code",
   "execution_count": null,
   "metadata": {},
   "outputs": [],
   "source": [
    "#Add the country name from appeal list if it is not already here\n",
    "country_list = ['Afghanistan', 'Bangladesh:', 'Burkina', 'Burundi',\n",
    "       'Cameroon', 'Centrafricaine', 'African',  'Tchad', 'Chad', 'Colombia', \n",
    "       'Congo', 'Salvador', 'Ethiopia', 'Guatemala', 'Haiti', 'Honduras',\n",
    "       'Iraq', 'Kenya', 'Lebanon', 'Libya', \"Madagascar's\", 'Madagascar', 'Mali', 'Mozambique', 'Madagascar', 'Malawi',\n",
    "       'Myanmar', 'Niger', 'Nigeria', 'Pakistan', 'occupied', 'Occupied', 'Somalia',\n",
    "       'South', 'Sudan', 'Syrian','Syria', 'Ukraine', 'Venezuela', 'Yemen',\n",
    "       'Zimbabwe', 'SouthSudan', 'Rohingya', 'Türkiye']"
   ]
  },
  {
   "cell_type": "code",
   "execution_count": null,
   "metadata": {},
   "outputs": [],
   "source": [
    "#add year column to validate the year\n",
    "df['Year'] = df['Appeal'].apply(lambda x: x.split()[-1])\n",
    "#Venezuela has RMRP instead of year, so we will add it manually for 2022.\n",
    "#df['Year'] = df['Year'].replace('(RMRP)', 2022)\n",
    "pd.set_option('display.max_rows', 999)"
   ]
  },
  {
   "cell_type": "code",
   "execution_count": null,
   "metadata": {
    "scrolled": true
   },
   "outputs": [],
   "source": [
    "#Correct the country names to be consistent with FSC files\n",
    "df['Country'] = df['Appeal'].apply(lambda i: ''.join([x for x in list(i.split()) if x in country_list]))\n",
    "df = df.drop(df[df['Country'] == ''].index).reset_index(drop=True)\n",
    "country_dict = {'Afghanistan':'Afghanistan', \n",
    "                       'Bangladesh:': 'Bangladesh', \n",
    "                       'Burkina': 'Burkina Faso', \n",
    "                       'Burundi': 'Burundi', \n",
    "                       'Cameroon':'Cameroon',\n",
    "                       'Centrafricaine':'CAR', \n",
    "                       'African': 'CAR', \n",
    "                       'Tchad':'Chad', \n",
    "                       'Chad': 'Chad',\n",
    "                       'Colombia':'Colombia', \n",
    "                       'Congo':'DRC',\n",
    "                       'Salvador': 'El Salvador',\n",
    "                       'Ethiopia':'Ethiopia', \n",
    "                       'Guatemala':'Guatemala', \n",
    "                       'Haiti':'Haiti', \n",
    "                       'Honduras':'Honduras', \n",
    "                       'Iraq':'Iraq',\n",
    "                       'Lebanon':'Lebanon', \n",
    "                       'Libya':'Libya', \n",
    "                       \"Madagascar's\":'Madagascar', \n",
    "                       'Madagascar': 'Madagascar',\n",
    "                       'Mali': 'Mali',\n",
    "                       'Mozambique':'Mozambique', \n",
    "                       'Myanmar':'Myanmar', \n",
    "                       'Niger':'Niger',\n",
    "                       'Nigeria':'Nigeria', \n",
    "                       'Pakistan':'Pakistan',\n",
    "                       'Rohingya':'Bangladesh',\n",
    "                       'occupied':'Palestine',\n",
    "                       'Occupied':'Palestine',\n",
    "                       'Somalia':'Somalia', \n",
    "                       'SouthSudan':'South Sudan',\n",
    "                       'South':'South Sudan', \n",
    "                       'Sudan':'Sudan', \n",
    "                       'Syria':'Syria', \n",
    "                       'Syrian': 'Syria',\n",
    "                       'Türkiye': 'Türkiye',\n",
    "                       'Ukraine':'Ukraine', \n",
    "                       'Venezuela,':'Venezuela', \n",
    "                       'Yemen':'Yemen', \n",
    "                       'Zimbabwe':'Zimbabwe'}\n",
    "df['Country'].replace(country_dict, inplace=True)\n",
    "\n"
   ]
  },
  {
   "cell_type": "code",
   "execution_count": null,
   "metadata": {
    "scrolled": true
   },
   "outputs": [],
   "source": [
    "df"
   ]
  },
  {
   "cell_type": "code",
   "execution_count": null,
   "metadata": {},
   "outputs": [],
   "source": [
    "#Convert string to intiger with removing commas and dolar signs\n",
    "char_to_replace = {',': '', '$': ''}\n",
    "df['Fund Received'] = df['Fund'].apply(lambda a: int(a.translate(str.maketrans(char_to_replace))))\n",
    "df['Current_Requirement'] = df['Current Requirement'].apply(lambda a: int(a.translate(str.maketrans(char_to_replace))))\n",
    "\n",
    "#reorder the columns\n",
    "df = df[[ 'Country', 'Appeal', 'Plan Type', 'Sector', 'Year', 'Appeal_Code', 'Current_Requirement', 'Fund Received']]\n",
    "    \n",
    "#get rid off Countries you dont need\n",
    "df = df.drop(df[df['Country']==''].index)"
   ]
  },
  {
   "cell_type": "code",
   "execution_count": null,
   "metadata": {
    "scrolled": true
   },
   "outputs": [],
   "source": [
    "df['Appeal'] = df['Appeal'].apply(lambda x: x[:-1])\n",
    "df_all_sectors['Country'] = df_all_sectors['Appeal/Plan  Sort descending'].apply(lambda i: ''.join([x for x in list(i.split()) if x in country_list]))\n",
    "df_all_sectors['Country'].replace(country_dict, inplace=True)\n",
    "df_all_sectors['Plan type'].replace({'Humanitarian response plan': 'HRP',\n",
    "'Regional response plan': 'RRP',\n",
    "'Flash appeal': 'Flash Appeal'}, inplace=True)\n",
    "df_all_sectors = df_all_sectors.merge(df[['Appeal', 'Appeal_Code']], how='left', left_on='Appeal/Plan  Sort descending', right_on = 'Appeal')\n",
    "df_all_sectors.drop('Appeal', axis=1, inplace=True)\n"
   ]
  },
  {
   "cell_type": "code",
   "execution_count": null,
   "metadata": {},
   "outputs": [],
   "source": [
    "path = os.getcwd()\n",
    "today = str(date.today())"
   ]
  },
  {
   "cell_type": "code",
   "execution_count": null,
   "metadata": {
    "scrolled": false
   },
   "outputs": [],
   "source": [
    "df_all_sectors.insert(0, 'Date', today)"
   ]
  },
  {
   "cell_type": "markdown",
   "metadata": {},
   "source": [
    "## Control Check for Appeals and Countries"
   ]
  },
  {
   "cell_type": "code",
   "execution_count": null,
   "metadata": {},
   "outputs": [],
   "source": [
    "if len(df['Appeal']) < 44:\n",
    "    print('!!!WARNING!!!!  CHECK THE NUMBER OF APPEALS')\n",
    "if len(df['Country'].unique()) < 36:\n",
    "    print('!!!WARNING!!!!  CHECK THE NUMBER OF COUNTRY')"
   ]
  },
  {
   "cell_type": "code",
   "execution_count": null,
   "metadata": {},
   "outputs": [],
   "source": [
    "# Create a Pandas Excel writer using XlsxWriter as the engine.\n",
    "writer = pd.ExcelWriter('FTS_Live_2023.xlsx', engine='xlsxwriter')\n",
    "\n",
    "# Write each dataframe to a different worksheet.\n",
    "df.to_excel(writer, sheet_name='Sheet1', index=False)\n",
    "df_all_sectors.to_excel(writer, sheet_name='All_Sectors', index=False)\n",
    "\n",
    "# Close the Pandas Excel writer and output the Excel file.\n",
    "writer.save()"
   ]
  },
  {
   "cell_type": "code",
   "execution_count": null,
   "metadata": {},
   "outputs": [],
   "source": [
    "#export to excel\n",
    "df.to_excel('FTS_{}.xlsx'.format(today), index=False)"
   ]
  }
 ],
 "metadata": {
  "kernelspec": {
   "display_name": "Python 3 (ipykernel)",
   "language": "python",
   "name": "python3"
  },
  "language_info": {
   "codemirror_mode": {
    "name": "ipython",
    "version": 3
   },
   "file_extension": ".py",
   "mimetype": "text/x-python",
   "name": "python",
   "nbconvert_exporter": "python",
   "pygments_lexer": "ipython3",
   "version": "3.9.13"
  }
 },
 "nbformat": 4,
 "nbformat_minor": 4
}
